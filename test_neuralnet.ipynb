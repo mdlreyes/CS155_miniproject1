{
 "cells": [
  {
   "cell_type": "markdown",
   "metadata": {},
   "source": [
    "# Test single neural net"
   ]
  },
  {
   "cell_type": "markdown",
   "metadata": {},
   "source": [
    "Code to train a single neural network model on training data, calculate predictions for test data, and do 5-fold cross validation."
   ]
  },
  {
   "cell_type": "markdown",
   "metadata": {},
   "source": [
    "## Import data and packages"
   ]
  },
  {
   "cell_type": "code",
   "execution_count": 31,
   "metadata": {},
   "outputs": [],
   "source": [
    "import numpy as np \n",
    "from sklearn.model_selection import KFold\n",
    "import tensorflow as tf \n",
    "#import tflearn\n",
    "import keras\n",
    "from keras.models import Sequential\n",
    "from keras.layers.core import Dense, Activation, Flatten, Dropout\n",
    "from keras.layers.advanced_activations import LeakyReLU\n",
    "from keras.utils.np_utils import to_categorical"
   ]
  },
  {
   "cell_type": "code",
   "execution_count": 3,
   "metadata": {},
   "outputs": [],
   "source": [
    "# Import the data from training_data.txt\n",
    "traindata = np.genfromtxt('training_data.txt', delimiter = ' ', skip_header=1)\n",
    "X_train = traindata[:, 1:]\n",
    "Y_train = traindata[:, 0]\n",
    "\n",
    "# Import the data from test_data.txt\n",
    "testdata = np.genfromtxt('test_data.txt', delimiter = ' ', skip_header=1)"
   ]
  },
  {
   "cell_type": "code",
   "execution_count": 4,
   "metadata": {},
   "outputs": [],
   "source": [
    "Y_train_final = to_categorical(Y_train, 2)"
   ]
  },
  {
   "cell_type": "markdown",
   "metadata": {},
   "source": [
    "## Create and train model"
   ]
  },
  {
   "cell_type": "code",
   "execution_count": 67,
   "metadata": {},
   "outputs": [
    {
     "name": "stdout",
     "output_type": "stream",
     "text": [
      "_________________________________________________________________\n",
      "Layer (type)                 Output Shape              Param #   \n",
      "=================================================================\n",
      "dense_55 (Dense)             (None, 300)               300300    \n",
      "_________________________________________________________________\n",
      "activation_55 (Activation)   (None, 300)               0         \n",
      "_________________________________________________________________\n",
      "dropout_27 (Dropout)         (None, 300)               0         \n",
      "_________________________________________________________________\n",
      "dense_56 (Dense)             (None, 300)               90300     \n",
      "_________________________________________________________________\n",
      "activation_56 (Activation)   (None, 300)               0         \n",
      "_________________________________________________________________\n",
      "dropout_28 (Dropout)         (None, 300)               0         \n",
      "_________________________________________________________________\n",
      "dense_57 (Dense)             (None, 400)               120400    \n",
      "_________________________________________________________________\n",
      "activation_57 (Activation)   (None, 400)               0         \n",
      "_________________________________________________________________\n",
      "dense_58 (Dense)             (None, 2)                 802       \n",
      "_________________________________________________________________\n",
      "activation_58 (Activation)   (None, 2)                 0         \n",
      "=================================================================\n",
      "Total params: 511,802\n",
      "Trainable params: 511,802\n",
      "Non-trainable params: 0\n",
      "_________________________________________________________________\n"
     ]
    }
   ],
   "source": [
    "modelcopy = Sequential()\n",
    "#model.add(Dropout(0.35, input_shape=(len(X_train[0]),)))\n",
    "modelcopy.add(Dense(300, input_shape=(len(X_train[0]),)))\n",
    "modelcopy.add(Activation('relu'))\n",
    "modelcopy.add(Dropout(0.2))\n",
    "modelcopy.add(Dense(300))\n",
    "modelcopy.add(Activation('relu'))\n",
    "modelcopy.add(Dropout(0.2))\n",
    "modelcopy.add(Dense(400))\n",
    "modelcopy.add(Activation('relu'))\n",
    "modelcopy.add(Dense(2))\n",
    "modelcopy.add(Activation('softmax'))\n",
    "\n",
    "# Printing a summary of the layers and weights in your model\n",
    "modelcopy.summary()"
   ]
  },
  {
   "cell_type": "code",
   "execution_count": 68,
   "metadata": {},
   "outputs": [
    {
     "name": "stdout",
     "output_type": "stream",
     "text": [
      "Epoch 1/10\n",
      "20000/20000 [==============================] - 20s 1ms/step - loss: 0.6928 - acc: 0.5165\n",
      "Epoch 2/10\n",
      "20000/20000 [==============================] - 11s 551us/step - loss: 0.5748 - acc: 0.6983\n",
      "Epoch 3/10\n",
      "20000/20000 [==============================] - 11s 559us/step - loss: 0.3889 - acc: 0.8291\n",
      "Epoch 4/10\n",
      "20000/20000 [==============================] - 11s 526us/step - loss: 0.3535 - acc: 0.84503s - loss: 0.3625 - acc: 0. - ETA: 3s\n",
      "Epoch 5/10\n",
      "20000/20000 [==============================] - 8s 381us/step - loss: 0.3559 - acc: 0.8443\n",
      "Epoch 6/10\n",
      "20000/20000 [==============================] - 11s 534us/step - loss: 0.3257 - acc: 0.8612\n",
      "Epoch 7/10\n",
      "20000/20000 [==============================] - 14s 699us/step - loss: 0.3191 - acc: 0.8646\n",
      "Epoch 8/10\n",
      "20000/20000 [==============================] - 13s 659us/step - loss: 0.3227 - acc: 0.8641\n",
      "Epoch 9/10\n",
      "20000/20000 [==============================] - 13s 644us/step - loss: 0.3295 - acc: 0.8566\n",
      "Epoch 10/10\n",
      "20000/20000 [==============================] - 12s 581us/step - loss: 0.3062 - acc: 0.8709\n"
     ]
    }
   ],
   "source": [
    "modelcopy.compile(loss='categorical_crossentropy',optimizer='Adam', metrics=['accuracy'])\n",
    "\n",
    "normalization = True\n",
    "debug = False\n",
    "\n",
    "if normalization:\n",
    "    fit = modelcopy.fit(X_train/float(len(X_train[0])), Y_train_final, batch_size=200, epochs=10, verbose=1)\n",
    "else:\n",
    "    fit = modelcopy.fit(X_train, Y_train_final, batch_size=20, epochs=10, verbose=1)"
   ]
  },
  {
   "cell_type": "markdown",
   "metadata": {},
   "source": [
    "## Predict on test data"
   ]
  },
  {
   "cell_type": "code",
   "execution_count": 54,
   "metadata": {},
   "outputs": [],
   "source": [
    "Ypredict = modelcopy.predict(testdata/float(len(testdata[0])))\n",
    "Ypredictfinal = np.zeros(len(Ypredict))\n",
    "Ypredictfinal[np.where(Ypredict[:,1]>Ypredict[:,0])] = 1"
   ]
  },
  {
   "cell_type": "code",
   "execution_count": 55,
   "metadata": {},
   "outputs": [],
   "source": [
    "printarray = np.array([np.arange(1,len(Ypredictfinal)+1),Ypredictfinal]).T\n",
    "\n",
    "np.savetxt('NN_500_500units_dropout25.txt',printarray,fmt='%i',delimiter=',',header='Id,Prediction',comments='')"
   ]
  },
  {
   "cell_type": "markdown",
   "metadata": {},
   "source": [
    "## Validate single model"
   ]
  },
  {
   "cell_type": "markdown",
   "metadata": {},
   "source": [
    "Calculate mean test scores for a single model using 5-fold cross validation."
   ]
  },
  {
   "cell_type": "code",
   "execution_count": 57,
   "metadata": {},
   "outputs": [],
   "source": [
    "from sklearn.model_selection import KFold\n",
    "\n",
    "# Loop over several dropout probabilities\n",
    "#dropouts = np.arange(0.1,0.85,0.05)\n",
    "#trainaccuracy = np.zeros(len(dropouts))"
   ]
  },
  {
   "cell_type": "code",
   "execution_count": 69,
   "metadata": {},
   "outputs": [
    {
     "name": "stdout",
     "output_type": "stream",
     "text": [
      "16000/16000 [==============================] - 7s 435us/step\n",
      "4000/4000 [==============================] - 1s 304us/step\n",
      "16000/16000 [==============================] - 5s 290us/step\n",
      "4000/4000 [==============================] - 1s 287us/step\n",
      "16000/16000 [==============================] - 2s 155us/step\n",
      "4000/4000 [==============================] - 1s 156us/step\n",
      "16000/16000 [==============================] - 3s 158us/step\n",
      "4000/4000 [==============================] - 1s 184us/step\n",
      "16000/16000 [==============================] - 3s 157us/step\n",
      "4000/4000 [==============================] - 1s 160us/step\n",
      "('Final training score: ', 0.7736448423489929)\n",
      "('Final test score: ', 0.719533021569252)\n"
     ]
    }
   ],
   "source": [
    "# Split input set into 5 partitions\n",
    "kf = KFold(n_splits=5)\n",
    "\n",
    "# Initialize training and test errors\n",
    "trainscore = 0\n",
    "testscore  = 0\n",
    "\n",
    "# Iterate 5 times, each time with a different partition used for validation\n",
    "for train_index, test_index in kf.split(X_train):\n",
    "    x_train_i, x_test_i = X_train[train_index]/float(len(X_train[0])), X_train[test_index]/float(len(X_train[0]))\n",
    "    y_train_i, y_test_i  = Y_train_final[train_index], Y_train_final[test_index]\n",
    "    \n",
    "    fit = modelcopy.fit(x_train_i, y_train_i, batch_size=200, epochs=10, verbose=0)\n",
    "    \n",
    "    trainscore += 1. - modelcopy.evaluate(x_train_i, y_train_i, verbose=1)[0]\n",
    "    testscore += 1. - modelcopy.evaluate(x_test_i, y_test_i, verbose=1)[0]\n",
    "    \n",
    "print('Final training score: ', trainscore/5.)\n",
    "print('Final test score: ', testscore/5.)"
   ]
  },
  {
   "cell_type": "markdown",
   "metadata": {},
   "source": [
    "## Validation results\n",
    "\n",
    "For two-layer (500 units each) architecture:\n",
    " - Training score = 0.7473236334592104\n",
    " - Test score = 0.7052634637951851\n",
    "\n",
    "For three-layer (300/300/400) architecture:\n",
    " - Training score = 0.7736448423489929\n",
    " - Test score = 0.719533021569252\n",
    "\n",
    "Note that scores are calculated as 1 - loss, where loss is defined by keras function - different from score computed earlier!"
   ]
  },
  {
   "cell_type": "code",
   "execution_count": null,
   "metadata": {},
   "outputs": [],
   "source": []
  }
 ],
 "metadata": {
  "kernelspec": {
   "display_name": "Python 2",
   "language": "python",
   "name": "python2"
  },
  "language_info": {
   "codemirror_mode": {
    "name": "ipython",
    "version": 2
   },
   "file_extension": ".py",
   "mimetype": "text/x-python",
   "name": "python",
   "nbconvert_exporter": "python",
   "pygments_lexer": "ipython2",
   "version": "2.7.13"
  }
 },
 "nbformat": 4,
 "nbformat_minor": 2
}
