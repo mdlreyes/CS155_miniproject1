{
 "cells": [
  {
   "cell_type": "markdown",
   "metadata": {},
   "source": [
    "# Hyperparameter optimization"
   ]
  },
  {
   "cell_type": "markdown",
   "metadata": {},
   "source": [
    "Gridsearch various parameters for neural network:\n",
    " - Activation function (tried earlier, didn't work so decided to stick with 'ReLU')\n",
    " - Dropout parameter\n",
    " - Epoch number (to save time, fixed this at epochs=10)\n",
    " - Batchsize\n",
    " \n",
    "Snippets of code adapted from https://machinelearningmastery.com/grid-search-hyperparameters-deep-learning-models-python-keras/"
   ]
  },
  {
   "cell_type": "code",
   "execution_count": 1,
   "metadata": {},
   "outputs": [
    {
     "name": "stderr",
     "output_type": "stream",
     "text": [
      "Using TensorFlow backend.\n"
     ]
    }
   ],
   "source": [
    "import numpy as np\n",
    "from sklearn.model_selection import GridSearchCV\n",
    "from keras.models import Sequential\n",
    "from keras.layers import Dense, Activation, Dropout\n",
    "from keras.wrappers.scikit_learn import KerasClassifier\n",
    "from keras.constraints import maxnorm\n",
    "from keras.utils.np_utils import to_categorical"
   ]
  },
  {
   "cell_type": "code",
   "execution_count": 2,
   "metadata": {},
   "outputs": [],
   "source": [
    "# Import the data from training_data.txt\n",
    "traindata = np.genfromtxt('training_data.txt', delimiter = ' ', skip_header=1)\n",
    "X_train = traindata[:, 1:]\n",
    "Y_train = traindata[:, 0]\n",
    "\n",
    "# Import the data from test_data.txt\n",
    "testdata = np.genfromtxt('test_data.txt', delimiter = ' ', skip_header=1)"
   ]
  },
  {
   "cell_type": "code",
   "execution_count": 3,
   "metadata": {},
   "outputs": [],
   "source": [
    "# Normalize the data and change labels to one-hot\n",
    "X_train_final = X_train/float(len(X_train[0]))\n",
    "Y_train_final = to_categorical(Y_train, 2)"
   ]
  },
  {
   "cell_type": "markdown",
   "metadata": {},
   "source": [
    "## Search over dropout rate"
   ]
  },
  {
   "cell_type": "code",
   "execution_count": 4,
   "metadata": {},
   "outputs": [],
   "source": [
    "# Function to create model, required for KerasClassifier\n",
    "def create_model(dropout_rate):\n",
    "    \n",
    "    # Create model\n",
    "    model = Sequential()\n",
    "    \n",
    "    model.add(Dense(300, input_shape=(len(X_train[0]),)))\n",
    "    model.add(Activation('relu'))\n",
    "    model.add(Dropout(dropout_rate))\n",
    "    model.add(Dense(300))\n",
    "    model.add(Activation('relu'))\n",
    "    model.add(Dropout(dropout_rate))\n",
    "    model.add(Dense(400))\n",
    "    model.add(Activation('relu'))\n",
    "    \n",
    "    model.add(Dense(2))\n",
    "    model.add(Activation('softmax'))\n",
    "    \n",
    "    # Compile model\n",
    "    model.compile(loss='categorical_crossentropy', optimizer='adam', metrics=['accuracy'])\n",
    "    return model"
   ]
  },
  {
   "cell_type": "code",
   "execution_count": 5,
   "metadata": {},
   "outputs": [],
   "source": [
    "# Fix random seed for reproducibility\n",
    "seed = 24\n",
    "np.random.seed(seed)\n",
    "\n",
    "# Create model\n",
    "model = KerasClassifier(build_fn=create_model, epochs=10, batch_size=30, verbose=0)"
   ]
  },
  {
   "cell_type": "code",
   "execution_count": 8,
   "metadata": {},
   "outputs": [
    {
     "name": "stdout",
     "output_type": "stream",
     "text": [
      "Fitting 5 folds for each of 7 candidates, totalling 35 fits\n",
      "[CV] dropout_rate=0.2 ................................................\n",
      "[CV] dropout_rate=0.2 ................................................\n",
      "[CV] dropout_rate=0.2 ................................................\n",
      "[CV] dropout_rate=0.2 ................................................\n",
      "[CV] ........... dropout_rate=0.2, score=0.861249992847, total= 3.2min\n",
      "[CV] dropout_rate=0.2 ................................................\n",
      "[CV] ........... dropout_rate=0.2, score=0.823749996573, total= 3.2min\n",
      "[CV] dropout_rate=0.25 ...............................................\n",
      "[CV] ............ dropout_rate=0.2, score=0.84224999398, total= 3.2min\n",
      "[CV] dropout_rate=0.25 ...............................................\n",
      "[CV] ........... dropout_rate=0.2, score=0.847999992073, total= 3.2min\n",
      "[CV] dropout_rate=0.25 ...............................................\n",
      "[CV] ........... dropout_rate=0.2, score=0.827499994785, total= 3.5min\n",
      "[CV] dropout_rate=0.25 ...............................................\n",
      "[CV] .......... dropout_rate=0.25, score=0.815749996156, total= 3.5min\n",
      "[CV] .......... dropout_rate=0.25, score=0.852749995589, total= 3.5min\n",
      "[CV] dropout_rate=0.25 ...............................................\n",
      "[CV] dropout_rate=0.3 ................................................\n",
      "[CV] .......... dropout_rate=0.25, score=0.843749995679, total= 3.5min\n",
      "[CV] dropout_rate=0.3 ................................................\n",
      "[CV] .......... dropout_rate=0.25, score=0.847499993891, total= 3.6min\n",
      "[CV] dropout_rate=0.3 ................................................\n",
      "[CV] .......... dropout_rate=0.25, score=0.854499993026, total= 3.6min\n",
      "[CV] ........... dropout_rate=0.3, score=0.846999994814, total= 3.6min\n",
      "[CV] dropout_rate=0.3 ................................................\n",
      "[CV] dropout_rate=0.3 ................................................\n",
      "[CV] ........... dropout_rate=0.3, score=0.821999997348, total= 3.6min\n",
      "[CV] dropout_rate=0.35 ...............................................\n",
      "[CV] ........... dropout_rate=0.3, score=0.824499996752, total= 3.2min\n",
      "[CV] ........... dropout_rate=0.3, score=0.830999997109, total= 3.2min\n",
      "[CV] dropout_rate=0.35 ...............................................\n",
      "[CV] dropout_rate=0.35 ...............................................\n",
      "[CV] ........... dropout_rate=0.3, score=0.848999995142, total= 3.2min\n",
      "[CV] dropout_rate=0.35 ...............................................\n",
      "[CV] .......... dropout_rate=0.35, score=0.854999992996, total= 3.2min\n",
      "[CV] dropout_rate=0.35 ...............................................\n",
      "[CV] .......... dropout_rate=0.35, score=0.853499998152, total= 3.4min\n",
      "[CV] dropout_rate=0.4 ................................................\n",
      "[CV] .......... dropout_rate=0.35, score=0.833499994427, total= 3.4min\n",
      "[CV] dropout_rate=0.4 ................................................\n",
      "[CV] .......... dropout_rate=0.35, score=0.832749994099, total= 3.4min\n",
      "[CV] dropout_rate=0.4 ................................................\n",
      "[CV] .......... dropout_rate=0.35, score=0.854499993026, total= 3.4min\n",
      "[CV] dropout_rate=0.4 ................................................\n",
      "[CV] ........... dropout_rate=0.4, score=0.810249997377, total= 3.4min\n",
      "[CV] dropout_rate=0.4 ................................................\n",
      "[CV] ........... dropout_rate=0.4, score=0.857999993712, total= 3.5min\n",
      "[CV] dropout_rate=0.45 ...............................................\n",
      "[CV] ........... dropout_rate=0.4, score=0.827249996662, total= 3.4min\n",
      "[CV] ........... dropout_rate=0.4, score=0.832749995589, total= 3.4min\n",
      "[CV] dropout_rate=0.45 ...............................................\n"
     ]
    },
    {
     "name": "stderr",
     "output_type": "stream",
     "text": [
      "[Parallel(n_jobs=-1)]: Done  24 tasks      | elapsed: 20.8min\n"
     ]
    },
    {
     "name": "stdout",
     "output_type": "stream",
     "text": [
      "[CV] dropout_rate=0.45 ...............................................\n",
      "[CV] .......... dropout_rate=0.45, score=0.862499994338, total= 3.5min\n",
      "[CV] ........... dropout_rate=0.4, score=0.844749995172, total= 3.5min\n",
      "[CV] dropout_rate=0.45 ...............................................\n",
      "[CV] dropout_rate=0.45 ...............................................\n",
      "[CV] .......... dropout_rate=0.45, score=0.842499994189, total= 3.5min\n",
      "[CV] dropout_rate=0.5 ................................................\n",
      "[CV] .......... dropout_rate=0.45, score=0.844249995798, total= 3.5min\n",
      "[CV] dropout_rate=0.5 ................................................\n",
      "[CV] .......... dropout_rate=0.45, score=0.825749994516, total= 3.6min\n",
      "[CV] dropout_rate=0.5 ................................................\n",
      "[CV] .......... dropout_rate=0.45, score=0.837499995828, total= 3.5min\n",
      "[CV] dropout_rate=0.5 ................................................\n",
      "[CV] ........... dropout_rate=0.5, score=0.865749992579, total= 3.5min\n",
      "[CV] dropout_rate=0.5 ................................................\n",
      "[CV] ............ dropout_rate=0.5, score=0.84374999404, total= 3.6min\n",
      "[CV] ........... dropout_rate=0.5, score=0.844249993116, total= 2.6min\n",
      "[CV] ........... dropout_rate=0.5, score=0.845499993116, total= 2.6min\n",
      "[CV] ........... dropout_rate=0.5, score=0.846749994606, total= 2.6min\n"
     ]
    },
    {
     "name": "stderr",
     "output_type": "stream",
     "text": [
      "[Parallel(n_jobs=-1)]: Done  35 out of  35 | elapsed: 30.6min finished\n"
     ]
    }
   ],
   "source": [
    "# Define the grid search parameters\n",
    "#activation = ['relu', 'tanh', 'sigmoid']\n",
    "dropout_rate = [0.2, 0.25, 0.3, 0.35, 0.4, 0.45, 0.5]\n",
    "\n",
    "# First search over activation and dropout rate\n",
    "param_grid = dict(dropout_rate=dropout_rate)\n",
    "grid = GridSearchCV(estimator=model, param_grid=param_grid, n_jobs=-1, cv=5, verbose=3)\n",
    "grid_result = grid.fit(X_train_final, Y_train_final)"
   ]
  },
  {
   "cell_type": "code",
   "execution_count": 9,
   "metadata": {},
   "outputs": [
    {
     "name": "stdout",
     "output_type": "stream",
     "text": [
      "Best: 0.849200 using {'dropout_rate': 0.5}\n"
     ]
    }
   ],
   "source": [
    "# summarize results\n",
    "print(\"Best: %f using %s\" % (grid_result.best_score_, grid_result.best_params_))"
   ]
  },
  {
   "cell_type": "code",
   "execution_count": 10,
   "metadata": {},
   "outputs": [
    {
     "name": "stdout",
     "output_type": "stream",
     "text": [
      "0.840550 (0.013707) with: {'dropout_rate': 0.2}\n",
      "0.842850 (0.014075) with: {'dropout_rate': 0.25}\n",
      "0.834700 (0.011268) with: {'dropout_rate': 0.3}\n",
      "0.845850 (0.010404) with: {'dropout_rate': 0.35}\n",
      "0.834600 (0.016130) with: {'dropout_rate': 0.4}\n",
      "0.842500 (0.011905) with: {'dropout_rate': 0.45}\n",
      "0.849200 (0.008340) with: {'dropout_rate': 0.5}\n"
     ]
    }
   ],
   "source": [
    "means = grid_result.cv_results_['mean_test_score']\n",
    "stds = grid_result.cv_results_['std_test_score']\n",
    "params = grid_result.cv_results_['params']\n",
    "for mean, stdev, param in zip(means, stds, params):\n",
    "    print(\"%f (%f) with: %r\" % (mean, stdev, param))"
   ]
  },
  {
   "cell_type": "markdown",
   "metadata": {},
   "source": [
    "## Search over batch size"
   ]
  },
  {
   "cell_type": "code",
   "execution_count": 4,
   "metadata": {},
   "outputs": [],
   "source": [
    "# Now fix the batch size\n",
    "def create_model():\n",
    "    \n",
    "    # Create model\n",
    "    model = Sequential()\n",
    "    \n",
    "    model.add(Dense(300, input_shape=(len(X_train[0]),)))\n",
    "    model.add(Activation('relu'))\n",
    "    model.add(Dropout(0.25))\n",
    "    model.add(Dense(300))\n",
    "    model.add(Activation('relu'))\n",
    "    model.add(Dropout(0.25))\n",
    "    model.add(Dense(400))\n",
    "    model.add(Activation('relu'))\n",
    "    \n",
    "    model.add(Dense(2))\n",
    "    model.add(Activation('softmax'))\n",
    "    \n",
    "    # Compile model\n",
    "    model.compile(loss='categorical_crossentropy', optimizer='adam', metrics=['accuracy'])\n",
    "    return model"
   ]
  },
  {
   "cell_type": "code",
   "execution_count": 5,
   "metadata": {},
   "outputs": [],
   "source": [
    "# Fix random seed for reproducibility\n",
    "seed = 10\n",
    "np.random.seed(seed)\n",
    "\n",
    "# Create model\n",
    "model = KerasClassifier(build_fn=create_model, verbose=0, epochs=10)"
   ]
  },
  {
   "cell_type": "code",
   "execution_count": 6,
   "metadata": {},
   "outputs": [
    {
     "name": "stdout",
     "output_type": "stream",
     "text": [
      "Fitting 5 folds for each of 5 candidates, totalling 25 fits\n",
      "[CV] batch_size=100 ..................................................\n",
      "[CV] batch_size=100 ..................................................\n",
      "[CV] batch_size=100 ..................................................\n",
      "[CV] batch_size=100 ..................................................\n",
      "[CV] ............. batch_size=100, score=0.855749997497, total= 1.9min\n",
      "[CV] batch_size=100 ..................................................\n",
      "[CV] ............. batch_size=100, score=0.853500001132, total= 1.9min\n",
      "[CV] batch_size=200 ..................................................\n",
      "[CV] ............. batch_size=100, score=0.847750000656, total= 1.9min\n",
      "[CV] batch_size=200 ..................................................\n",
      "[CV] ............. batch_size=100, score=0.829250001907, total= 1.9min\n",
      "[CV] batch_size=200 ..................................................\n",
      "[CV] ............. batch_size=200, score=0.835749998689, total= 1.7min\n",
      "[CV] batch_size=200 ..................................................\n",
      "[CV] ............. batch_size=200, score=0.853750011325, total= 1.7min\n",
      "[CV] batch_size=200 ..................................................\n",
      "[CV] ............. batch_size=200, score=0.842500007153, total= 1.7min\n",
      "[CV] batch_size=300 ..................................................\n",
      "[CV] .............. batch_size=100, score=0.85474999994, total= 1.8min\n",
      "[CV] batch_size=300 ..................................................\n",
      "[CV] ............. batch_size=300, score=0.847250002623, total= 1.3min\n",
      "[CV] batch_size=300 ..................................................\n",
      "[CV] ............. batch_size=200, score=0.843999996781, total= 1.4min\n",
      "[CV] batch_size=300 ..................................................\n",
      "[CV] ............. batch_size=200, score=0.853499999642, total= 1.4min\n",
      "[CV] batch_size=300 ..................................................\n",
      "[CV] .............. batch_size=300, score=0.83749999702, total= 1.3min\n",
      "[CV] batch_size=400 ..................................................\n",
      "[CV] ............. batch_size=300, score=0.837000001967, total= 1.2min\n",
      "[CV] batch_size=400 ..................................................\n",
      "[CV] ............. batch_size=300, score=0.836499989033, total= 1.2min\n",
      "[CV] batch_size=400 ..................................................\n",
      "[CV] ............. batch_size=300, score=0.838249988854, total= 1.2min\n",
      "[CV] batch_size=400 ..................................................\n",
      "[CV] ............. batch_size=400, score=0.844000005722, total= 1.2min\n",
      "[CV] batch_size=400 ..................................................\n",
      "[CV] ............. batch_size=400, score=0.840750002861, total= 1.2min\n",
      "[CV] batch_size=500 ..................................................\n",
      "[CV] ............. batch_size=400, score=0.842750000954, total= 1.2min\n",
      "[CV] batch_size=500 ..................................................\n",
      "[CV] ............. batch_size=400, score=0.841749995947, total= 1.2min\n",
      "[CV] batch_size=500 ..................................................\n",
      "[CV] ............. batch_size=400, score=0.856750005484, total= 1.2min\n",
      "[CV] batch_size=500 ..................................................\n",
      "[CV] ............. batch_size=500, score=0.825250007212, total= 1.2min\n",
      "[CV] batch_size=500 ..................................................\n",
      "[CV] ............. batch_size=500, score=0.856000006199, total= 1.2min\n",
      "[CV] .............. batch_size=500, score=0.83599999547, total= 1.2min\n",
      "[CV] ............. batch_size=500, score=0.842749997973, total= 1.2min\n",
      "[CV] ............. batch_size=500, score=0.842750005424, total=  26.2s\n"
     ]
    },
    {
     "name": "stderr",
     "output_type": "stream",
     "text": [
      "[Parallel(n_jobs=-1)]: Done  25 out of  25 | elapsed:  9.2min finished\n"
     ]
    }
   ],
   "source": [
    "# Define the grid search parameters\n",
    "batch_size = [100, 200, 300, 400, 500]\n",
    "#epochs = [10, 20, 30]\n",
    "\n",
    "param_grid = dict(batch_size=batch_size) #, epochs=epochs)\n",
    "grid_epochbatch = GridSearchCV(estimator=model, param_grid=param_grid, n_jobs=-1, cv=5, verbose=3)\n",
    "grid_result_epochbatch = grid_epochbatch.fit(X_train_final, Y_train_final)"
   ]
  },
  {
   "cell_type": "code",
   "execution_count": 7,
   "metadata": {},
   "outputs": [
    {
     "name": "stdout",
     "output_type": "stream",
     "text": [
      "Best: 0.848200 using {'batch_size': 100}\n"
     ]
    }
   ],
   "source": [
    "# summarize results\n",
    "print(\"Best: %f using %s\" % (grid_result_epochbatch.best_score_, grid_result_epochbatch.best_params_))"
   ]
  },
  {
   "cell_type": "code",
   "execution_count": 8,
   "metadata": {},
   "outputs": [
    {
     "name": "stdout",
     "output_type": "stream",
     "text": [
      "0.848200 (0.009872) with: {'batch_size': 100}\n",
      "0.845900 (0.006893) with: {'batch_size': 200}\n",
      "0.839300 (0.004017) with: {'batch_size': 300}\n",
      "0.845200 (0.005875) with: {'batch_size': 400}\n",
      "0.840550 (0.010032) with: {'batch_size': 500}\n"
     ]
    }
   ],
   "source": [
    "means = grid_result_epochbatch.cv_results_['mean_test_score']\n",
    "stds = grid_result_epochbatch.cv_results_['std_test_score']\n",
    "params = grid_result_epochbatch.cv_results_['params']\n",
    "for mean, stdev, param in zip(means, stds, params):\n",
    "    print(\"%f (%f) with: %r\" % (mean, stdev, param))"
   ]
  },
  {
   "cell_type": "markdown",
   "metadata": {},
   "source": [
    "# Search over batch size and dropout rate"
   ]
  },
  {
   "cell_type": "code",
   "execution_count": 4,
   "metadata": {},
   "outputs": [],
   "source": [
    "def create_model(dropout_rate):\n",
    "    \n",
    "    # Create model\n",
    "    model = Sequential()\n",
    "    \n",
    "    model.add(Dense(300, input_shape=(len(X_train[0]),)))\n",
    "    model.add(Activation('relu'))\n",
    "    model.add(Dropout(dropout_rate))\n",
    "    model.add(Dense(300))\n",
    "    model.add(Activation('relu'))\n",
    "    model.add(Dropout(dropout_rate))\n",
    "    model.add(Dense(400))\n",
    "    model.add(Activation('relu'))\n",
    "    \n",
    "    model.add(Dense(2))\n",
    "    model.add(Activation('softmax'))\n",
    "    \n",
    "    # Compile model\n",
    "    model.compile(loss='categorical_crossentropy', optimizer='adam', metrics=['accuracy'])\n",
    "    return model"
   ]
  },
  {
   "cell_type": "code",
   "execution_count": 5,
   "metadata": {},
   "outputs": [],
   "source": [
    "# Fix random seed for reproducibility\n",
    "seed = 23\n",
    "np.random.seed(seed)\n",
    "\n",
    "# Create model\n",
    "model = KerasClassifier(build_fn=create_model, verbose=0, epochs=10)"
   ]
  },
  {
   "cell_type": "code",
   "execution_count": 7,
   "metadata": {},
   "outputs": [
    {
     "name": "stdout",
     "output_type": "stream",
     "text": [
      "Fitting 5 folds for each of 25 candidates, totalling 125 fits\n",
      "[CV] dropout_rate=0.2, batch_size=50 .................................\n",
      "[CV] dropout_rate=0.2, batch_size=50 .................................\n",
      "[CV] dropout_rate=0.2, batch_size=50 .................................\n",
      "[CV] dropout_rate=0.2, batch_size=50 .................................\n",
      "[CV]  dropout_rate=0.2, batch_size=50, score=0.857999992371, total= 2.9min\n",
      "[CV] dropout_rate=0.2, batch_size=50 .................................\n",
      "[CV]  dropout_rate=0.2, batch_size=50, score=0.837249993533, total= 2.9min\n",
      "[CV] dropout_rate=0.3, batch_size=50 .................................\n",
      "[CV]  dropout_rate=0.2, batch_size=50, score=0.846999994665, total= 2.9min\n",
      "[CV] dropout_rate=0.3, batch_size=50 .................................\n",
      "[CV]  dropout_rate=0.2, batch_size=50, score=0.843749993294, total= 2.9min\n",
      "[CV] dropout_rate=0.3, batch_size=50 .................................\n",
      "[CV]  dropout_rate=0.2, batch_size=50, score=0.850499992073, total= 3.1min\n",
      "[CV] dropout_rate=0.3, batch_size=50 .................................\n",
      "[CV]  dropout_rate=0.3, batch_size=50, score=0.859999994934, total= 3.1min\n",
      "[CV] dropout_rate=0.3, batch_size=50 .................................\n",
      "[CV]  dropout_rate=0.3, batch_size=50, score=0.825249990821, total= 3.2min\n",
      "[CV] dropout_rate=0.4, batch_size=50 .................................\n",
      "[CV]  dropout_rate=0.3, batch_size=50, score=0.836749994755, total= 3.2min\n",
      "[CV] dropout_rate=0.4, batch_size=50 .................................\n",
      "[CV]  dropout_rate=0.3, batch_size=50, score=0.841999995708, total= 3.1min\n",
      "[CV] dropout_rate=0.4, batch_size=50 .................................\n",
      "[CV]  dropout_rate=0.3, batch_size=50, score=0.849999996275, total= 3.1min\n",
      "[CV] dropout_rate=0.4, batch_size=50 .................................\n",
      "[CV]  dropout_rate=0.4, batch_size=50, score=0.854999992996, total= 3.1min\n",
      "[CV] dropout_rate=0.4, batch_size=50 .................................\n",
      "[CV]  dropout_rate=0.4, batch_size=50, score=0.836999992281, total= 3.1min\n",
      "[CV] dropout_rate=0.5, batch_size=50 .................................\n",
      "[CV]  dropout_rate=0.4, batch_size=50, score=0.836999993771, total= 2.6min\n",
      "[CV] dropout_rate=0.5, batch_size=50 .................................\n",
      "[CV]  dropout_rate=0.4, batch_size=50, score=0.844499995559, total= 2.6min\n",
      "[CV]  dropout_rate=0.4, batch_size=50, score=0.85324999392, total= 2.6min\n",
      "[CV] dropout_rate=0.5, batch_size=50 .................................\n",
      "[CV] dropout_rate=0.5, batch_size=50 .................................\n",
      "[CV]  dropout_rate=0.5, batch_size=50, score=0.853749997169, total= 2.6min\n",
      "[CV] dropout_rate=0.5, batch_size=50 .................................\n",
      "[CV]  dropout_rate=0.5, batch_size=50, score=0.847249997407, total= 2.1min\n",
      "[CV] dropout_rate=0.6, batch_size=50 .................................\n",
      "[CV]  dropout_rate=0.5, batch_size=50, score=0.841249992698, total= 2.1min\n",
      "[CV]  dropout_rate=0.5, batch_size=50, score=0.842749998719, total= 2.1min\n",
      "[CV] dropout_rate=0.6, batch_size=50 .................................\n",
      "[CV] dropout_rate=0.6, batch_size=50 .................................\n",
      "[CV]  dropout_rate=0.5, batch_size=50, score=0.85324999541, total= 2.2min\n",
      "[CV] dropout_rate=0.6, batch_size=50 .................................\n",
      "[CV]  dropout_rate=0.6, batch_size=50, score=0.849999996275, total=90.4min\n",
      "[CV] dropout_rate=0.6, batch_size=50 .................................\n",
      "[CV]  dropout_rate=0.6, batch_size=50, score=0.847249992192, total=90.4min\n",
      "[CV] dropout_rate=0.2, batch_size=100 ................................\n",
      "[CV]  dropout_rate=0.6, batch_size=50, score=0.839749996364, total=90.4min\n",
      "[CV] dropout_rate=0.2, batch_size=100 ................................\n",
      "[CV]  dropout_rate=0.6, batch_size=50, score=0.842249994725, total=90.4min\n",
      "[CV] dropout_rate=0.2, batch_size=100 ................................\n"
     ]
    },
    {
     "name": "stderr",
     "output_type": "stream",
     "text": [
      "[Parallel(n_jobs=-1)]: Done  24 tasks      | elapsed: 104.8min\n"
     ]
    },
    {
     "name": "stdout",
     "output_type": "stream",
     "text": [
      "[CV]  dropout_rate=0.2, batch_size=100, score=0.831499995291, total= 1.9min\n",
      "[CV] dropout_rate=0.2, batch_size=100 ................................\n",
      "[CV]  dropout_rate=0.2, batch_size=100, score=0.856000000238, total= 1.9min\n",
      "[CV] dropout_rate=0.2, batch_size=100 ................................\n",
      "[CV]  dropout_rate=0.2, batch_size=100, score=0.841249999404, total= 1.9min\n",
      "[CV] dropout_rate=0.3, batch_size=100 ................................\n",
      "[CV]  dropout_rate=0.6, batch_size=50, score=0.845999994874, total= 2.1min\n",
      "[CV] dropout_rate=0.3, batch_size=100 ................................\n",
      "[CV]  dropout_rate=0.2, batch_size=100, score=0.841749997437, total= 1.7min\n",
      "[CV] dropout_rate=0.3, batch_size=100 ................................\n",
      "[CV]  dropout_rate=0.2, batch_size=100, score=0.853750003874, total= 1.7min\n",
      "[CV] dropout_rate=0.3, batch_size=100 ................................\n",
      "[CV]  dropout_rate=0.3, batch_size=100, score=0.859499999881, total= 1.7min\n",
      "[CV] dropout_rate=0.3, batch_size=100 ................................\n",
      "[CV]  dropout_rate=0.3, batch_size=100, score=0.832749998569, total= 1.6min\n",
      "[CV] dropout_rate=0.4, batch_size=100 ................................\n",
      "[CV]  dropout_rate=0.3, batch_size=100, score=0.754250001907, total= 1.5min\n",
      "[CV] dropout_rate=0.4, batch_size=100 ................................\n",
      "[CV]  dropout_rate=0.3, batch_size=100, score=0.773249994218, total= 1.5min\n",
      "[CV] dropout_rate=0.4, batch_size=100 ................................\n",
      "[CV]  dropout_rate=0.3, batch_size=100, score=0.840000002086, total= 1.5min\n",
      "[CV] dropout_rate=0.4, batch_size=100 ................................\n",
      "[CV]  dropout_rate=0.4, batch_size=100, score=0.854249997437, total= 1.5min\n",
      "[CV] dropout_rate=0.4, batch_size=100 ................................\n",
      "[CV]  dropout_rate=0.4, batch_size=100, score=0.854250003397, total= 1.6min\n",
      "[CV] dropout_rate=0.5, batch_size=100 ................................\n",
      "[CV]  dropout_rate=0.4, batch_size=100, score=0.843250000477, total= 1.6min\n",
      "[CV] dropout_rate=0.5, batch_size=100 ................................\n",
      "[CV]  dropout_rate=0.4, batch_size=100, score=0.839999996126, total= 1.6min\n",
      "[CV] dropout_rate=0.5, batch_size=100 ................................\n",
      "[CV] .... dropout_rate=0.4, batch_size=100, score=0.825, total= 1.7min\n",
      "[CV] dropout_rate=0.5, batch_size=100 ................................\n",
      "[CV]  dropout_rate=0.5, batch_size=100, score=0.857749995589, total= 1.6min\n",
      "[CV] dropout_rate=0.5, batch_size=100 ................................\n",
      "[CV]  dropout_rate=0.5, batch_size=100, score=0.856500004232, total= 1.6min\n",
      "[CV] dropout_rate=0.6, batch_size=100 ................................\n",
      "[CV]  dropout_rate=0.5, batch_size=100, score=0.84224999696, total= 1.6min\n",
      "[CV] dropout_rate=0.6, batch_size=100 ................................\n",
      "[CV]  dropout_rate=0.5, batch_size=100, score=0.849250000715, total= 1.6min\n",
      "[CV] dropout_rate=0.6, batch_size=100 ................................\n",
      "[CV]  dropout_rate=0.5, batch_size=100, score=0.81724999845, total= 1.5min\n",
      "[CV] dropout_rate=0.6, batch_size=100 ................................\n",
      "[CV]  dropout_rate=0.6, batch_size=100, score=0.861499996483, total= 1.5min\n",
      "[CV] dropout_rate=0.6, batch_size=100 ................................\n",
      "[CV]  dropout_rate=0.6, batch_size=100, score=0.839499993622, total= 1.5min\n",
      "[CV] dropout_rate=0.2, batch_size=150 ................................\n",
      "[CV]  dropout_rate=0.6, batch_size=100, score=0.843499998748, total= 1.5min\n",
      "[CV] dropout_rate=0.2, batch_size=150 ................................\n",
      "[CV]  dropout_rate=0.6, batch_size=100, score=0.84224999845, total= 1.5min\n",
      "[CV] dropout_rate=0.2, batch_size=150 ................................\n",
      "[CV]  dropout_rate=0.2, batch_size=150, score=0.85850000307, total= 1.5min\n",
      "[CV]  dropout_rate=0.6, batch_size=100, score=0.85150000006, total= 1.5min\n",
      "[CV] dropout_rate=0.2, batch_size=150 ................................\n",
      "[CV] dropout_rate=0.2, batch_size=150 ................................\n",
      "[CV]  dropout_rate=0.2, batch_size=150, score=0.837000001967, total= 1.5min\n",
      "[CV] dropout_rate=0.3, batch_size=150 ................................\n",
      "[CV]  dropout_rate=0.2, batch_size=150, score=0.842500007898, total= 1.4min\n",
      "[CV] dropout_rate=0.3, batch_size=150 ................................\n",
      "[CV]  dropout_rate=0.2, batch_size=150, score=0.841000000387, total= 1.4min\n",
      "[CV] dropout_rate=0.3, batch_size=150 ................................\n",
      "[CV]  dropout_rate=0.2, batch_size=150, score=0.853999993205, total= 1.4min\n",
      "[CV] dropout_rate=0.3, batch_size=150 ................................\n",
      "[CV]  dropout_rate=0.3, batch_size=150, score=0.85850000456, total= 1.5min\n",
      "[CV] dropout_rate=0.3, batch_size=150 ................................\n",
      "[CV]  dropout_rate=0.3, batch_size=150, score=0.852999992669, total= 1.5min\n",
      "[CV] dropout_rate=0.4, batch_size=150 ................................\n",
      "[CV]  dropout_rate=0.3, batch_size=150, score=0.836500006914, total= 1.5min\n",
      "[CV] dropout_rate=0.4, batch_size=150 ................................\n",
      "[CV]  dropout_rate=0.3, batch_size=150, score=0.844749999046, total= 1.5min\n",
      "[CV] dropout_rate=0.4, batch_size=150 ................................\n",
      "[CV]  dropout_rate=0.3, batch_size=150, score=0.849249996245, total= 1.5min\n",
      "[CV] dropout_rate=0.4, batch_size=150 ................................\n",
      "[CV]  dropout_rate=0.4, batch_size=150, score=0.861999996752, total= 1.4min\n",
      "[CV] dropout_rate=0.4, batch_size=150 ................................\n",
      "[CV]  dropout_rate=0.4, batch_size=150, score=0.847750002146, total= 1.4min\n",
      "[CV] dropout_rate=0.5, batch_size=150 ................................\n",
      "[CV]  dropout_rate=0.4, batch_size=150, score=0.839249999821, total= 1.4min\n",
      "[CV] dropout_rate=0.5, batch_size=150 ................................\n",
      "[CV]  dropout_rate=0.4, batch_size=150, score=0.841250000149, total= 1.4min\n",
      "[CV] dropout_rate=0.5, batch_size=150 ................................\n",
      "[CV]  dropout_rate=0.4, batch_size=150, score=0.849499997497, total= 1.4min\n",
      "[CV] dropout_rate=0.5, batch_size=150 ................................\n",
      "[CV]  dropout_rate=0.5, batch_size=150, score=0.848499999195, total= 1.4min\n",
      "[CV] dropout_rate=0.5, batch_size=150 ................................\n",
      "[CV]  dropout_rate=0.5, batch_size=150, score=0.84750000909, total= 1.4min\n",
      "[CV] dropout_rate=0.6, batch_size=150 ................................\n",
      "[CV]  dropout_rate=0.5, batch_size=150, score=0.841250002384, total= 1.4min\n",
      "[CV] dropout_rate=0.6, batch_size=150 ................................\n",
      "[CV]  dropout_rate=0.5, batch_size=150, score=0.813999992609, total= 1.4min\n",
      "[CV] dropout_rate=0.6, batch_size=150 ................................\n",
      "[CV]  dropout_rate=0.5, batch_size=150, score=0.806249994785, total= 1.4min\n",
      "[CV] dropout_rate=0.6, batch_size=150 ................................\n",
      "[CV]  dropout_rate=0.6, batch_size=150, score=0.85150000304, total= 1.4min\n",
      "[CV] dropout_rate=0.6, batch_size=150 ................................\n",
      "[CV]  dropout_rate=0.6, batch_size=150, score=0.844250005484, total= 1.4min\n",
      "[CV] dropout_rate=0.2, batch_size=200 ................................\n",
      "[CV]  dropout_rate=0.6, batch_size=150, score=0.810500003397, total= 1.4min\n",
      "[CV] dropout_rate=0.2, batch_size=200 ................................\n",
      "[CV]  dropout_rate=0.6, batch_size=150, score=0.837750001252, total= 1.4min\n",
      "[CV] dropout_rate=0.2, batch_size=200 ................................\n",
      "[CV]  dropout_rate=0.6, batch_size=150, score=0.842999999225, total= 1.4min\n",
      "[CV] dropout_rate=0.2, batch_size=200 ................................\n",
      "[CV]  dropout_rate=0.2, batch_size=200, score=0.859500002861, total= 1.4min\n",
      "[CV] dropout_rate=0.2, batch_size=200 ................................\n",
      "[CV]  dropout_rate=0.2, batch_size=200, score=0.852750009298, total= 1.3min\n",
      "[CV] dropout_rate=0.3, batch_size=200 ................................\n",
      "[CV]  dropout_rate=0.2, batch_size=200, score=0.844250008464, total= 1.3min\n",
      "[CV] dropout_rate=0.3, batch_size=200 ................................\n",
      "[CV]  dropout_rate=0.2, batch_size=200, score=0.844999995828, total= 1.3min\n",
      "[CV] dropout_rate=0.3, batch_size=200 ................................\n",
      "[CV]  dropout_rate=0.2, batch_size=200, score=0.853999999166, total= 1.3min\n",
      "[CV] dropout_rate=0.3, batch_size=200 ................................\n"
     ]
    },
    {
     "name": "stdout",
     "output_type": "stream",
     "text": [
      "[CV]  dropout_rate=0.3, batch_size=200, score=0.858749997616, total= 1.3min\n",
      "[CV] dropout_rate=0.3, batch_size=200 ................................\n",
      "[CV]  dropout_rate=0.3, batch_size=200, score=0.85000000298, total= 1.3min\n",
      "[CV] dropout_rate=0.4, batch_size=200 ................................\n",
      "[CV]  dropout_rate=0.3, batch_size=200, score=0.84525000751, total= 1.3min\n",
      "[CV] dropout_rate=0.4, batch_size=200 ................................\n",
      "[CV]  dropout_rate=0.3, batch_size=200, score=0.845750001073, total= 1.3min\n",
      "[CV] dropout_rate=0.4, batch_size=200 ................................\n",
      "[CV]  dropout_rate=0.3, batch_size=200, score=0.852500003576, total= 1.3min\n",
      "[CV] dropout_rate=0.4, batch_size=200 ................................\n",
      "[CV]  dropout_rate=0.4, batch_size=200, score=0.854249998927, total= 1.3min\n",
      "[CV] dropout_rate=0.4, batch_size=200 ................................\n",
      "[CV]  dropout_rate=0.4, batch_size=200, score=0.841749998927, total= 1.3min\n",
      "[CV] dropout_rate=0.5, batch_size=200 ................................\n",
      "[CV]  dropout_rate=0.4, batch_size=200, score=0.84675000906, total= 1.3min\n",
      "[CV] dropout_rate=0.5, batch_size=200 ................................\n",
      "[CV]  dropout_rate=0.4, batch_size=200, score=0.843999996781, total= 1.3min\n",
      "[CV] dropout_rate=0.5, batch_size=200 ................................\n",
      "[CV]  dropout_rate=0.4, batch_size=200, score=0.853499996662, total= 1.3min\n",
      "[CV] dropout_rate=0.5, batch_size=200 ................................\n",
      "[CV] .. dropout_rate=0.5, batch_size=200, score=0.83125, total= 1.3min\n",
      "[CV] dropout_rate=0.5, batch_size=200 ................................\n",
      "[CV]  dropout_rate=0.5, batch_size=200, score=0.850250002742, total= 1.4min\n",
      "[CV] dropout_rate=0.6, batch_size=200 ................................\n",
      "[CV]  dropout_rate=0.5, batch_size=200, score=0.835500007868, total= 1.3min\n",
      "[CV] dropout_rate=0.6, batch_size=200 ................................\n",
      "[CV]  dropout_rate=0.5, batch_size=200, score=0.832749995589, total= 1.3min\n",
      "[CV] dropout_rate=0.6, batch_size=200 ................................\n",
      "[CV]  dropout_rate=0.5, batch_size=200, score=0.855250006914, total= 1.3min\n",
      "[CV] dropout_rate=0.6, batch_size=200 ................................\n",
      "[CV]  dropout_rate=0.6, batch_size=200, score=0.846250000596, total= 1.4min\n",
      "[CV] dropout_rate=0.6, batch_size=200 ................................\n",
      "[CV]  dropout_rate=0.6, batch_size=200, score=0.847250005603, total= 1.4min\n",
      "[CV] dropout_rate=0.2, batch_size=250 ................................\n",
      "[CV]  dropout_rate=0.6, batch_size=200, score=0.845000004768, total= 1.4min\n",
      "[CV] dropout_rate=0.2, batch_size=250 ................................\n",
      "[CV]  dropout_rate=0.6, batch_size=200, score=0.824749997258, total= 1.4min\n",
      "[CV] dropout_rate=0.2, batch_size=250 ................................\n",
      "[CV]  dropout_rate=0.6, batch_size=200, score=0.856499999762, total= 1.3min\n",
      "[CV] dropout_rate=0.2, batch_size=250 ................................\n",
      "[CV]  dropout_rate=0.2, batch_size=250, score=0.8570000045, total= 1.2min\n",
      "[CV] dropout_rate=0.2, batch_size=250 ................................\n",
      "[CV]  dropout_rate=0.2, batch_size=250, score=0.850499987602, total= 1.2min\n",
      "[CV] dropout_rate=0.3, batch_size=250 ................................\n",
      "[CV]  dropout_rate=0.2, batch_size=250, score=0.847999993712, total= 1.2min\n",
      "[CV] dropout_rate=0.3, batch_size=250 ................................\n",
      "[CV]  dropout_rate=0.2, batch_size=250, score=0.841249994934, total= 1.3min\n",
      "[CV] dropout_rate=0.3, batch_size=250 ................................\n",
      "[CV]  dropout_rate=0.2, batch_size=250, score=0.845500007272, total= 1.3min\n",
      "[CV] dropout_rate=0.3, batch_size=250 ................................\n",
      "[CV]  dropout_rate=0.3, batch_size=250, score=0.855499990284, total= 1.3min\n",
      "[CV] dropout_rate=0.3, batch_size=250 ................................\n",
      "[CV]  dropout_rate=0.3, batch_size=250, score=0.853499997407, total= 1.3min\n",
      "[CV] dropout_rate=0.4, batch_size=250 ................................\n",
      "[CV]  dropout_rate=0.3, batch_size=250, score=0.841749999672, total= 1.4min\n",
      "[CV] dropout_rate=0.4, batch_size=250 ................................\n",
      "[CV]  dropout_rate=0.3, batch_size=250, score=0.842750001699, total= 1.3min\n",
      "[CV] dropout_rate=0.4, batch_size=250 ................................\n",
      "[CV]  dropout_rate=0.3, batch_size=250, score=0.84450000152, total= 1.3min\n",
      "[CV] dropout_rate=0.4, batch_size=250 ................................\n",
      "[CV]  dropout_rate=0.4, batch_size=250, score=0.859000004828, total= 1.3min\n",
      "[CV] dropout_rate=0.4, batch_size=250 ................................\n",
      "[CV]  dropout_rate=0.4, batch_size=250, score=0.839500002563, total= 1.3min\n",
      "[CV] dropout_rate=0.5, batch_size=250 ................................\n",
      "[CV]  dropout_rate=0.4, batch_size=250, score=0.844499997795, total= 1.2min\n",
      "[CV] dropout_rate=0.5, batch_size=250 ................................\n",
      "[CV]  dropout_rate=0.4, batch_size=250, score=0.844249997288, total= 1.2min\n",
      "[CV] dropout_rate=0.5, batch_size=250 ................................\n",
      "[CV]  dropout_rate=0.4, batch_size=250, score=0.852249994874, total= 1.2min\n",
      "[CV] dropout_rate=0.5, batch_size=250 ................................\n",
      "[CV]  dropout_rate=0.5, batch_size=250, score=0.858749996871, total= 1.2min\n",
      "[CV] dropout_rate=0.5, batch_size=250 ................................\n",
      "[CV]  dropout_rate=0.5, batch_size=250, score=0.849499996752, total= 1.2min\n",
      "[CV] dropout_rate=0.6, batch_size=250 ................................\n",
      "[CV]  dropout_rate=0.5, batch_size=250, score=0.837000001222, total= 1.2min\n",
      "[CV] dropout_rate=0.6, batch_size=250 ................................\n",
      "[CV]  dropout_rate=0.5, batch_size=250, score=0.84224999696, total= 1.2min\n",
      "[CV] dropout_rate=0.6, batch_size=250 ................................\n",
      "[CV]  dropout_rate=0.5, batch_size=250, score=0.842499993742, total= 1.3min\n",
      "[CV] dropout_rate=0.6, batch_size=250 ................................\n",
      "[CV]  dropout_rate=0.6, batch_size=250, score=0.85399999842, total= 1.2min\n",
      "[CV] dropout_rate=0.6, batch_size=250 ................................\n",
      "[CV]  dropout_rate=0.6, batch_size=250, score=0.854000002146, total= 1.2min\n",
      "[CV]  dropout_rate=0.6, batch_size=250, score=0.844499994069, total= 1.2min\n",
      "[CV]  dropout_rate=0.6, batch_size=250, score=0.840999994427, total=  50.6s\n",
      "[CV]  dropout_rate=0.6, batch_size=250, score=0.845749992877, total=  37.6s\n"
     ]
    },
    {
     "name": "stderr",
     "output_type": "stream",
     "text": [
      "[Parallel(n_jobs=-1)]: Done 125 out of 125 | elapsed: 141.5min finished\n"
     ]
    }
   ],
   "source": [
    "# Define the grid search parameters\n",
    "batch_size = [50, 100, 150, 200, 250]\n",
    "dropout_rate = [0.2, 0.3, 0.4, 0.5, 0.6]\n",
    "\n",
    "param_grid = dict(batch_size=batch_size, dropout_rate=dropout_rate) #, epochs=epochs)\n",
    "grid_batchdropout = GridSearchCV(estimator=model, param_grid=param_grid, n_jobs=-1, cv=5, verbose=3)\n",
    "grid_result_batchdropout = grid_batchdropout.fit(X_train_final, Y_train_final)"
   ]
  },
  {
   "cell_type": "code",
   "execution_count": 10,
   "metadata": {},
   "outputs": [
    {
     "name": "stdout",
     "output_type": "stream",
     "text": [
      "Best: 0.851100 using {'dropout_rate': 0.2, 'batch_size': 200}\n"
     ]
    }
   ],
   "source": [
    "# summarize results\n",
    "print(\"Best: %f using %s\" % (grid_result_batchdropout.best_score_, grid_result_batchdropout.best_params_))"
   ]
  },
  {
   "cell_type": "code",
   "execution_count": 11,
   "metadata": {},
   "outputs": [
    {
     "name": "stdout",
     "output_type": "stream",
     "text": [
      "0.847300 (0.006905) with: {'dropout_rate': 0.2, 'batch_size': 50}\n",
      "0.842800 (0.011772) with: {'dropout_rate': 0.3, 'batch_size': 50}\n",
      "0.845350 (0.007690) with: {'dropout_rate': 0.4, 'batch_size': 50}\n",
      "0.847650 (0.005171) with: {'dropout_rate': 0.5, 'batch_size': 50}\n",
      "0.845050 (0.003638) with: {'dropout_rate': 0.6, 'batch_size': 50}\n",
      "0.844850 (0.008992) with: {'dropout_rate': 0.2, 'batch_size': 100}\n",
      "0.811950 (0.040761) with: {'dropout_rate': 0.3, 'batch_size': 100}\n",
      "0.843350 (0.010822) with: {'dropout_rate': 0.4, 'batch_size': 100}\n",
      "0.844600 (0.014763) with: {'dropout_rate': 0.5, 'batch_size': 100}\n",
      "0.847650 (0.007993) with: {'dropout_rate': 0.6, 'batch_size': 100}\n",
      "0.846600 (0.008206) with: {'dropout_rate': 0.2, 'batch_size': 150}\n",
      "0.848400 (0.007468) with: {'dropout_rate': 0.3, 'batch_size': 150}\n",
      "0.847950 (0.008005) with: {'dropout_rate': 0.4, 'batch_size': 150}\n",
      "0.831500 (0.017798) with: {'dropout_rate': 0.5, 'batch_size': 150}\n",
      "0.837400 (0.014148) with: {'dropout_rate': 0.6, 'batch_size': 150}\n",
      "0.851100 (0.005759) with: {'dropout_rate': 0.2, 'batch_size': 200}\n",
      "0.850450 (0.004948) with: {'dropout_rate': 0.3, 'batch_size': 200}\n",
      "0.848050 (0.005018) with: {'dropout_rate': 0.4, 'batch_size': 200}\n",
      "0.841000 (0.009818) with: {'dropout_rate': 0.5, 'batch_size': 200}\n",
      "0.843950 (0.010425) with: {'dropout_rate': 0.6, 'batch_size': 200}\n",
      "0.848450 (0.005255) with: {'dropout_rate': 0.2, 'batch_size': 250}\n",
      "0.847600 (0.005737) with: {'dropout_rate': 0.3, 'batch_size': 250}\n",
      "0.847900 (0.006893) with: {'dropout_rate': 0.4, 'batch_size': 250}\n",
      "0.846000 (0.007512) with: {'dropout_rate': 0.5, 'batch_size': 250}\n",
      "0.847850 (0.005257) with: {'dropout_rate': 0.6, 'batch_size': 250}\n"
     ]
    }
   ],
   "source": [
    "means = grid_result_batchdropout.cv_results_['mean_test_score']\n",
    "stds = grid_result_batchdropout.cv_results_['std_test_score']\n",
    "params = grid_result_batchdropout.cv_results_['params']\n",
    "for mean, stdev, param in zip(means, stds, params):\n",
    "    print(\"%f (%f) with: %r\" % (mean, stdev, param))"
   ]
  },
  {
   "cell_type": "code",
   "execution_count": null,
   "metadata": {},
   "outputs": [],
   "source": []
  },
  {
   "cell_type": "markdown",
   "metadata": {},
   "source": [
    "## Search over dropout rate (again -- final search)"
   ]
  },
  {
   "cell_type": "code",
   "execution_count": 4,
   "metadata": {},
   "outputs": [],
   "source": [
    "# Function to create model, required for KerasClassifier\n",
    "def create_model(dropout_rate):\n",
    "    \n",
    "    # Create model\n",
    "    model = Sequential()\n",
    "    \n",
    "    model.add(Dense(400, input_shape=(len(X_train[0]),)))\n",
    "    model.add(Activation('relu'))\n",
    "    model.add(Dropout(dropout_rate))\n",
    "    model.add(Dense(400))\n",
    "    model.add(Activation('relu'))\n",
    "    model.add(Dropout(dropout_rate))\n",
    "    model.add(Dense(400))\n",
    "    model.add(Activation('relu'))\n",
    "    \n",
    "    model.add(Dense(2))\n",
    "    model.add(Activation('softmax'))\n",
    "    \n",
    "    # Compile model\n",
    "    model.compile(loss='categorical_crossentropy', optimizer='adam', metrics=['accuracy'])\n",
    "    return model"
   ]
  },
  {
   "cell_type": "code",
   "execution_count": 5,
   "metadata": {},
   "outputs": [],
   "source": [
    "# Fix random seed for reproducibility\n",
    "seed = 98\n",
    "np.random.seed(seed)\n",
    "\n",
    "# Create model\n",
    "model = KerasClassifier(build_fn=create_model, epochs=10, batch_size=200, verbose=0)"
   ]
  },
  {
   "cell_type": "code",
   "execution_count": 6,
   "metadata": {},
   "outputs": [
    {
     "name": "stdout",
     "output_type": "stream",
     "text": [
      "Fitting 5 folds for each of 9 candidates, totalling 45 fits\n",
      "[CV] dropout_rate=0.1 ................................................\n",
      "[CV] dropout_rate=0.1 ................................................\n",
      "[CV] dropout_rate=0.1 ................................................\n",
      "[CV] dropout_rate=0.1 ................................................\n",
      "[CV] ........... dropout_rate=0.1, score=0.859999999404, total= 3.0min\n",
      "[CV] dropout_rate=0.1 ................................................\n",
      "[CV] ........... dropout_rate=0.1, score=0.839500001073, total= 3.0min\n",
      "[CV] dropout_rate=0.15 ...............................................\n",
      "[CV] ............ dropout_rate=0.1, score=0.84675000906, total= 3.0min\n",
      "[CV] dropout_rate=0.15 ...............................................\n",
      "[CV] ........... dropout_rate=0.1, score=0.840749999881, total= 3.0min\n",
      "[CV] dropout_rate=0.15 ...............................................\n",
      "[CV] ........... dropout_rate=0.1, score=0.853249996901, total= 2.9min\n",
      "[CV] dropout_rate=0.15 ...............................................\n",
      "[CV] .......... dropout_rate=0.15, score=0.858500003815, total= 2.9min\n",
      "[CV] dropout_rate=0.15 ...............................................\n",
      "[CV] .......... dropout_rate=0.15, score=0.847000002861, total= 2.9min\n",
      "[CV] dropout_rate=0.2 ................................................\n",
      "[CV] .......... dropout_rate=0.15, score=0.844500008225, total= 2.9min\n",
      "[CV] dropout_rate=0.2 ................................................\n",
      "[CV] .......... dropout_rate=0.15, score=0.837749996781, total= 3.0min\n",
      "[CV] dropout_rate=0.2 ................................................\n",
      "[CV] ........... dropout_rate=0.2, score=0.856999999285, total= 2.9min\n",
      "[CV] .......... dropout_rate=0.15, score=0.849750000238, total= 3.0min\n",
      "[CV] dropout_rate=0.2 ................................................\n",
      "[CV] dropout_rate=0.2 ................................................\n",
      "[CV] ........... dropout_rate=0.2, score=0.833000001311, total= 3.0min\n",
      "[CV] dropout_rate=0.25 ...............................................\n",
      "[CV] ........... dropout_rate=0.2, score=0.845500007272, total= 2.9min\n",
      "[CV] dropout_rate=0.25 ...............................................\n",
      "[CV] ........... dropout_rate=0.2, score=0.840999999642, total= 2.9min\n",
      "[CV] dropout_rate=0.25 ...............................................\n",
      "[CV] ........... dropout_rate=0.2, score=0.853000003099, total= 2.9min\n",
      "[CV] dropout_rate=0.25 ...............................................\n",
      "[CV] .......... dropout_rate=0.25, score=0.810500004888, total= 3.0min\n",
      "[CV] dropout_rate=0.25 ...............................................\n",
      "[CV] .......... dropout_rate=0.25, score=0.850250008702, total= 3.0min\n",
      "[CV] dropout_rate=0.3 ................................................\n",
      "[CV] .......... dropout_rate=0.25, score=0.841500008106, total= 3.0min\n",
      "[CV] dropout_rate=0.3 ................................................\n",
      "[CV] .......... dropout_rate=0.25, score=0.838749995828, total= 3.0min\n",
      "[CV] dropout_rate=0.3 ................................................\n",
      "[CV] .......... dropout_rate=0.25, score=0.855750003457, total= 3.0min\n",
      "[CV] dropout_rate=0.3 ................................................\n",
      "[CV] ........... dropout_rate=0.3, score=0.861250001192, total= 2.9min\n",
      "[CV] dropout_rate=0.3 ................................................\n",
      "[CV] ........... dropout_rate=0.3, score=0.832500001788, total= 2.9min\n",
      "[CV] dropout_rate=0.35 ...............................................\n",
      "[CV] ........... dropout_rate=0.3, score=0.845500007272, total= 2.9min\n",
      "[CV] dropout_rate=0.35 ...............................................\n",
      "[CV] ........... dropout_rate=0.3, score=0.835249996185, total= 2.9min\n",
      "[CV] dropout_rate=0.35 ...............................................\n"
     ]
    },
    {
     "name": "stderr",
     "output_type": "stream",
     "text": [
      "[Parallel(n_jobs=-1)]: Done  24 tasks      | elapsed: 18.3min\n"
     ]
    },
    {
     "name": "stdout",
     "output_type": "stream",
     "text": [
      "[CV] ........... dropout_rate=0.3, score=0.831999996305, total= 3.0min\n",
      "[CV] dropout_rate=0.35 ...............................................\n",
      "[CV] .......... dropout_rate=0.35, score=0.860750004649, total= 3.0min\n",
      "[CV] dropout_rate=0.35 ...............................................\n",
      "[CV] .......... dropout_rate=0.35, score=0.841500005126, total= 3.0min\n",
      "[CV] dropout_rate=0.4 ................................................\n",
      "[CV] .......... dropout_rate=0.35, score=0.833000001311, total= 3.0min\n",
      "[CV] dropout_rate=0.4 ................................................\n",
      "[CV] .......... dropout_rate=0.35, score=0.839250001311, total= 3.0min\n",
      "[CV] dropout_rate=0.4 ................................................\n",
      "[CV] .......... dropout_rate=0.35, score=0.853249999881, total= 3.0min\n",
      "[CV] dropout_rate=0.4 ................................................\n",
      "[CV] ........... dropout_rate=0.4, score=0.851250001788, total= 3.0min\n",
      "[CV] dropout_rate=0.4 ................................................\n",
      "[CV] ........... dropout_rate=0.4, score=0.841249996424, total= 3.0min\n",
      "[CV] dropout_rate=0.45 ...............................................\n",
      "[CV] ........... dropout_rate=0.4, score=0.843500006199, total= 3.0min\n",
      "[CV] dropout_rate=0.45 ...............................................\n",
      "[CV] .................. dropout_rate=0.4, score=0.83125, total= 3.0min\n",
      "[CV] dropout_rate=0.45 ...............................................\n",
      "[CV] ........... dropout_rate=0.4, score=0.853000000119, total= 3.0min\n",
      "[CV] dropout_rate=0.45 ...............................................\n",
      "[CV] .......... dropout_rate=0.45, score=0.845249995589, total= 3.0min\n",
      "[CV] dropout_rate=0.45 ...............................................\n",
      "[CV] .......... dropout_rate=0.45, score=0.855750006437, total= 3.0min\n",
      "[CV] dropout_rate=0.5 ................................................\n",
      "[CV] .......... dropout_rate=0.45, score=0.842250004411, total= 3.0min\n",
      "[CV] dropout_rate=0.5 ................................................\n",
      "[CV] .......... dropout_rate=0.45, score=0.815500000119, total= 3.0min\n",
      "[CV] dropout_rate=0.5 ................................................\n",
      "[CV] .......... dropout_rate=0.45, score=0.857249996066, total= 3.0min\n",
      "[CV] dropout_rate=0.5 ................................................\n",
      "[CV] ........... dropout_rate=0.5, score=0.863499996066, total= 3.0min\n",
      "[CV] dropout_rate=0.5 ................................................\n",
      "[CV] ........... dropout_rate=0.5, score=0.840000003576, total= 3.0min\n",
      "[CV] ........... dropout_rate=0.5, score=0.842750000954, total= 2.9min\n",
      "[CV] ........... dropout_rate=0.5, score=0.841999995708, total= 3.0min\n",
      "[CV] ........... dropout_rate=0.5, score=0.850999999046, total=  47.2s\n"
     ]
    },
    {
     "name": "stderr",
     "output_type": "stream",
     "text": [
      "[Parallel(n_jobs=-1)]: Done  45 out of  45 | elapsed: 34.3min finished\n"
     ]
    }
   ],
   "source": [
    "# Define the grid search parameters\n",
    "#activation = ['relu', 'tanh', 'sigmoid']\n",
    "dropout_rate = [0.1, 0.15, 0.2, 0.25, 0.3, 0.35, 0.4, 0.45, 0.5]\n",
    "\n",
    "# First search over activation and dropout rate\n",
    "param_grid = dict(dropout_rate=dropout_rate)\n",
    "grid_final = GridSearchCV(estimator=model, param_grid=param_grid, n_jobs=-1, cv=5, verbose=3)\n",
    "grid_result_final = grid_final.fit(X_train_final, Y_train_final)"
   ]
  },
  {
   "cell_type": "code",
   "execution_count": 9,
   "metadata": {},
   "outputs": [
    {
     "name": "stdout",
     "output_type": "stream",
     "text": [
      "Best: 0.849200 using {'dropout_rate': 0.5}\n"
     ]
    }
   ],
   "source": [
    "# summarize results\n",
    "print(\"Best: %f using %s\" % (grid_result_final.best_score_, grid_result_final.best_params_))"
   ]
  },
  {
   "cell_type": "code",
   "execution_count": 10,
   "metadata": {},
   "outputs": [
    {
     "name": "stdout",
     "output_type": "stream",
     "text": [
      "0.840550 (0.013707) with: {'dropout_rate': 0.2}\n",
      "0.842850 (0.014075) with: {'dropout_rate': 0.25}\n",
      "0.834700 (0.011268) with: {'dropout_rate': 0.3}\n",
      "0.845850 (0.010404) with: {'dropout_rate': 0.35}\n",
      "0.834600 (0.016130) with: {'dropout_rate': 0.4}\n",
      "0.842500 (0.011905) with: {'dropout_rate': 0.45}\n",
      "0.849200 (0.008340) with: {'dropout_rate': 0.5}\n"
     ]
    }
   ],
   "source": [
    "means = grid_result_final.cv_results_['mean_test_score']\n",
    "stds = grid_result_final.cv_results_['std_test_score']\n",
    "params = grid_result_final.cv_results_['params']\n",
    "for mean, stdev, param in zip(means, stds, params):\n",
    "    print(\"%f (%f) with: %r\" % (mean, stdev, param))"
   ]
  },
  {
   "cell_type": "markdown",
   "metadata": {},
   "source": [
    "## Search over dropouts for new architecture "
   ]
  },
  {
   "cell_type": "code",
   "execution_count": 4,
   "metadata": {},
   "outputs": [],
   "source": [
    "# Function to create model, required for KerasClassifier\n",
    "def create_model(dropout_rate):\n",
    "    \n",
    "    # Create model\n",
    "    model = Sequential()\n",
    "    \n",
    "    model.add(Dense(600, input_shape=(len(X_train[0]),)))\n",
    "    model.add(Activation('relu'))\n",
    "    model.add(Dropout(dropout_rate))\n",
    "    model.add(Dense(400))\n",
    "    model.add(Activation('relu'))\n",
    "    \n",
    "    model.add(Dense(2))\n",
    "    model.add(Activation('softmax'))\n",
    "    \n",
    "    # Compile model\n",
    "    model.compile(loss='categorical_crossentropy', optimizer='adam', metrics=['accuracy'])\n",
    "    return model"
   ]
  },
  {
   "cell_type": "code",
   "execution_count": 5,
   "metadata": {},
   "outputs": [],
   "source": [
    "# Fix random seed for reproducibility\n",
    "seed = 74\n",
    "np.random.seed(seed)\n",
    "\n",
    "# Create model\n",
    "model = KerasClassifier(build_fn=create_model, epochs=10, batch_size=200, verbose=0)"
   ]
  },
  {
   "cell_type": "code",
   "execution_count": 6,
   "metadata": {},
   "outputs": [
    {
     "name": "stdout",
     "output_type": "stream",
     "text": [
      "Fitting 5 folds for each of 9 candidates, totalling 45 fits\n",
      "[CV] dropout_rate=0.1 ................................................\n",
      "[CV] dropout_rate=0.1 ................................................\n",
      "[CV] dropout_rate=0.1 ................................................\n",
      "[CV] dropout_rate=0.1 ................................................\n",
      "[CV] ........... dropout_rate=0.1, score=0.856749996543, total= 2.1min\n",
      "[CV] dropout_rate=0.1 ................................................\n",
      "[CV] ........... dropout_rate=0.1, score=0.836499997973, total= 2.1min\n",
      "[CV] dropout_rate=0.15 ...............................................\n",
      "[CV] ........... dropout_rate=0.1, score=0.842750000954, total= 2.1min\n",
      "[CV] dropout_rate=0.15 ...............................................\n",
      "[CV] ........... dropout_rate=0.1, score=0.841749998927, total= 2.1min\n",
      "[CV] dropout_rate=0.15 ...............................................\n",
      "[CV] ........... dropout_rate=0.1, score=0.854000002146, total= 2.1min\n",
      "[CV] dropout_rate=0.15 ...............................................\n",
      "[CV] .......... dropout_rate=0.15, score=0.857999995351, total= 2.1min\n",
      "[CV] dropout_rate=0.15 ...............................................\n",
      "[CV] .......... dropout_rate=0.15, score=0.847999998927, total= 2.1min\n",
      "[CV] dropout_rate=0.2 ................................................\n",
      "[CV] .......... dropout_rate=0.15, score=0.846750003099, total= 2.1min\n",
      "[CV] dropout_rate=0.2 ................................................\n",
      "[CV] .......... dropout_rate=0.15, score=0.841749998927, total= 3.2min\n",
      "[CV] dropout_rate=0.2 ................................................\n",
      "[CV] .......... dropout_rate=0.15, score=0.852250003815, total= 3.2min\n",
      "[CV] dropout_rate=0.2 ................................................\n",
      "[CV] ........... dropout_rate=0.2, score=0.860249996185, total= 3.2min\n",
      "[CV] dropout_rate=0.2 ................................................\n",
      "[CV] ........... dropout_rate=0.2, score=0.854500007629, total= 3.2min\n",
      "[CV] dropout_rate=0.25 ...............................................\n",
      "[CV] ........... dropout_rate=0.2, score=0.841250008345, total= 2.8min\n",
      "[CV] dropout_rate=0.25 ...............................................\n",
      "[CV] ........... dropout_rate=0.2, score=0.841000005603, total= 2.8min\n",
      "[CV] dropout_rate=0.25 ...............................................\n",
      "[CV] .......... dropout_rate=0.25, score=0.829750001431, total= 2.8min\n",
      "[CV] dropout_rate=0.25 ...............................................\n",
      "[CV] ........... dropout_rate=0.2, score=0.854750001431, total= 2.8min\n",
      "[CV] dropout_rate=0.25 ...............................................\n",
      "[CV] .......... dropout_rate=0.25, score=0.854250007868, total= 2.9min\n",
      "[CV] dropout_rate=0.3 ................................................\n",
      "[CV] .......... dropout_rate=0.25, score=0.813500005007, total= 2.9min\n",
      "[CV] dropout_rate=0.3 ................................................\n",
      "[CV] .......... dropout_rate=0.25, score=0.809749996662, total= 2.9min\n",
      "[CV] dropout_rate=0.3 ................................................\n",
      "[CV] .......... dropout_rate=0.25, score=0.836250004172, total= 2.9min\n",
      "[CV] dropout_rate=0.3 ................................................\n",
      "[CV] ........... dropout_rate=0.3, score=0.859749993682, total= 2.9min\n",
      "[CV] dropout_rate=0.3 ................................................\n",
      "[CV] ........... dropout_rate=0.3, score=0.839750000834, total= 2.9min\n",
      "[CV] dropout_rate=0.35 ...............................................\n",
      "[CV] ........... dropout_rate=0.3, score=0.854500004649, total= 3.0min\n",
      "[CV] dropout_rate=0.35 ...............................................\n",
      "[CV] ........... dropout_rate=0.3, score=0.841249999404, total= 2.9min\n"
     ]
    },
    {
     "name": "stderr",
     "output_type": "stream",
     "text": [
      "[Parallel(n_jobs=-1)]: Done  24 tasks      | elapsed: 16.7min\n"
     ]
    },
    {
     "name": "stdout",
     "output_type": "stream",
     "text": [
      "[CV] dropout_rate=0.35 ...............................................\n",
      "[CV] ........... dropout_rate=0.3, score=0.854249995947, total= 2.7min\n",
      "[CV] dropout_rate=0.35 ...............................................\n",
      "[CV] .......... dropout_rate=0.35, score=0.820000007749, total= 2.7min\n",
      "[CV] dropout_rate=0.35 ...............................................\n",
      "[CV] .......... dropout_rate=0.35, score=0.854250001907, total= 2.7min\n",
      "[CV] dropout_rate=0.4 ................................................\n",
      "[CV] .......... dropout_rate=0.35, score=0.834749999642, total= 2.7min\n",
      "[CV] dropout_rate=0.4 ................................................\n",
      "[CV] .......... dropout_rate=0.35, score=0.816000005603, total= 2.8min\n",
      "[CV] dropout_rate=0.4 ................................................\n",
      "[CV] .......... dropout_rate=0.35, score=0.793500000238, total= 2.7min\n",
      "[CV] dropout_rate=0.4 ................................................\n",
      "[CV] ........... dropout_rate=0.4, score=0.859500005841, total= 2.7min\n",
      "[CV] ........... dropout_rate=0.4, score=0.828749999404, total= 2.7min\n",
      "[CV] dropout_rate=0.4 ................................................\n",
      "[CV] dropout_rate=0.45 ...............................................\n",
      "[CV] ............ dropout_rate=0.4, score=0.83125000298, total= 2.2min\n",
      "[CV] dropout_rate=0.45 ...............................................\n",
      "[CV] ........... dropout_rate=0.4, score=0.839749997854, total= 2.2min\n",
      "[CV] dropout_rate=0.45 ...............................................\n",
      "[CV] .......... dropout_rate=0.45, score=0.853250002861, total= 2.2min\n",
      "[CV] dropout_rate=0.45 ...............................................\n",
      "[CV] ........... dropout_rate=0.4, score=0.855249997973, total= 2.2min\n",
      "[CV] dropout_rate=0.45 ...............................................\n",
      "[CV] .......... dropout_rate=0.45, score=0.838750004768, total= 2.6min\n",
      "[CV] dropout_rate=0.5 ................................................\n",
      "[CV] .......... dropout_rate=0.45, score=0.845500007272, total= 2.6min\n",
      "[CV] dropout_rate=0.5 ................................................\n",
      "[CV] ........... dropout_rate=0.45, score=0.83124999702, total= 2.6min\n",
      "[CV] dropout_rate=0.5 ................................................\n",
      "[CV] .......... dropout_rate=0.45, score=0.849750000238, total= 2.6min\n",
      "[CV] dropout_rate=0.5 ................................................\n",
      "[CV] ........... dropout_rate=0.5, score=0.856499996781, total= 2.8min\n",
      "[CV] dropout_rate=0.5 ................................................\n",
      "[CV] ........... dropout_rate=0.5, score=0.848000007868, total= 2.8min\n",
      "[CV] ........... dropout_rate=0.5, score=0.836750000715, total= 2.8min\n",
      "[CV] ........... dropout_rate=0.5, score=0.840999996662, total= 2.8min\n",
      "[CV] ........... dropout_rate=0.5, score=0.847749999166, total= 1.4min\n"
     ]
    },
    {
     "name": "stderr",
     "output_type": "stream",
     "text": [
      "[Parallel(n_jobs=-1)]: Done  45 out of  45 | elapsed: 31.5min finished\n"
     ]
    }
   ],
   "source": [
    "# Define the grid search parameters\n",
    "#activation = ['relu', 'tanh', 'sigmoid']\n",
    "dropout_rate = [0.1, 0.15, 0.2, 0.25, 0.3, 0.35, 0.4, 0.45, 0.5]\n",
    "\n",
    "# First search over activation and dropout rate\n",
    "param_grid = dict(dropout_rate=dropout_rate)\n",
    "grid_last = GridSearchCV(estimator=model, param_grid=param_grid, n_jobs=-1, cv=5, verbose=3)\n",
    "grid_result_last = grid_last.fit(X_train_final, Y_train_final)"
   ]
  },
  {
   "cell_type": "code",
   "execution_count": 7,
   "metadata": {},
   "outputs": [
    {
     "name": "stdout",
     "output_type": "stream",
     "text": [
      "Best: 0.850350 using {'dropout_rate': 0.2}\n"
     ]
    }
   ],
   "source": [
    "# summarize results\n",
    "print(\"Best: %f using %s\" % (grid_result_last.best_score_, grid_result_last.best_params_))"
   ]
  },
  {
   "cell_type": "code",
   "execution_count": 8,
   "metadata": {},
   "outputs": [
    {
     "name": "stdout",
     "output_type": "stream",
     "text": [
      "0.846350 (0.007718) with: {'dropout_rate': 0.1}\n",
      "0.849350 (0.005469) with: {'dropout_rate': 0.15}\n",
      "0.850350 (0.007808) with: {'dropout_rate': 0.2}\n",
      "0.828700 (0.016131) with: {'dropout_rate': 0.25}\n",
      "0.849900 (0.007937) with: {'dropout_rate': 0.3}\n",
      "0.823700 (0.020201) with: {'dropout_rate': 0.35}\n",
      "0.842900 (0.012441) with: {'dropout_rate': 0.4}\n",
      "0.843700 (0.007881) with: {'dropout_rate': 0.45}\n",
      "0.846000 (0.006751) with: {'dropout_rate': 0.5}\n"
     ]
    }
   ],
   "source": [
    "means = grid_result_last.cv_results_['mean_test_score']\n",
    "stds = grid_result_last.cv_results_['std_test_score']\n",
    "params = grid_result_last.cv_results_['params']\n",
    "for mean, stdev, param in zip(means, stds, params):\n",
    "    print(\"%f (%f) with: %r\" % (mean, stdev, param))"
   ]
  },
  {
   "cell_type": "code",
   "execution_count": null,
   "metadata": {},
   "outputs": [],
   "source": []
  }
 ],
 "metadata": {
  "kernelspec": {
   "display_name": "Python 2",
   "language": "python",
   "name": "python2"
  },
  "language_info": {
   "codemirror_mode": {
    "name": "ipython",
    "version": 2
   },
   "file_extension": ".py",
   "mimetype": "text/x-python",
   "name": "python",
   "nbconvert_exporter": "python",
   "pygments_lexer": "ipython2",
   "version": "2.7.13"
  }
 },
 "nbformat": 4,
 "nbformat_minor": 2
}
